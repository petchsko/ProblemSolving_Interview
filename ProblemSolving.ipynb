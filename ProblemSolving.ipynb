{
  "nbformat": 4,
  "nbformat_minor": 0,
  "metadata": {
    "colab": {
      "name": "RingZero_Test",
      "provenance": [],
      "toc_visible": true
    },
    "kernelspec": {
      "name": "python3",
      "display_name": "Python 3"
    },
    "language_info": {
      "name": "python"
    }
  },
  "cells": [
    {
      "cell_type": "markdown",
      "metadata": {
        "id": "E9U2Sc_M1-dl"
      },
      "source": [
        "#Problem Solving Exercise"
      ]
    },
    {
      "cell_type": "markdown",
      "metadata": {
        "id": "RKKcNJsm19BW"
      },
      "source": [
        "##1. \n",
        "เขียนโปรแกรมที่เช็คว่า คำที่ตรวจสอบเป็น palindrome หรือไม่\n",
        "Palindrome คือ การอ่าน จาก ซ้ายมาขวาหรือ ขวามาซ้ายได้คำเดียวเดียวกัน\n",
        "Example:\n",
        "TENET, racecar, madam, and refer → เป็น Palindrome\n",
        "Test, race ไม่เป็น Palindrome\n",
        "Func IsPalindrome → return true/false"
      ]
    },
    {
      "cell_type": "code",
      "metadata": {
        "id": "NIzV-wED12yi"
      },
      "source": [
        "def IsPalindrome(word):\n",
        "  return word == word[::-1]"
      ],
      "execution_count": 1,
      "outputs": []
    },
    {
      "cell_type": "markdown",
      "metadata": {
        "id": "R32dwOHb2XNd"
      },
      "source": [
        "ex."
      ]
    },
    {
      "cell_type": "code",
      "metadata": {
        "colab": {
          "base_uri": "https://localhost:8080/"
        },
        "id": "WxEzA4q52Rnb",
        "outputId": "353feefd-b0e0-4920-b5b7-976b48d6efa8"
      },
      "source": [
        "print('word : Yes >>>', IsPalindrome('Yes'))\n",
        "print('word : aba >>>', IsPalindrome('aba'))"
      ],
      "execution_count": 10,
      "outputs": [
        {
          "output_type": "stream",
          "text": [
            "word : Yes >>> False\n",
            "word : aba >>> True\n"
          ],
          "name": "stdout"
        }
      ]
    },
    {
      "cell_type": "markdown",
      "metadata": {
        "id": "ENePV0iZ2vjY"
      },
      "source": [
        "##2. \n",
        "ให้ตรวจสอบค่าจาก list of number ถ้าค่าแรก และค่าสุดท้ายเป็น เลขเดียวกัน ให้ return true ถ้าไม่\n",
        "return false\n"
      ]
    },
    {
      "cell_type": "code",
      "metadata": {
        "id": "wuTW4lft2abQ"
      },
      "source": [
        "def checkFirstandLast(lists):\n",
        "  print('Given list is', lists)\n",
        "  print('result is', lists[0] == lists[-1])\n",
        "  return lists[0] == lists[-1]"
      ],
      "execution_count": 18,
      "outputs": []
    },
    {
      "cell_type": "markdown",
      "metadata": {
        "id": "nmoZh6AG2-SS"
      },
      "source": [
        "ex."
      ]
    },
    {
      "cell_type": "code",
      "metadata": {
        "colab": {
          "base_uri": "https://localhost:8080/"
        },
        "id": "yUPxSWyt29bY",
        "outputId": "25dffd9d-b13e-4ca1-a63c-ba5b90e182f0"
      },
      "source": [
        "a = [11, 20, 11]\n",
        "b = [10, 20, 30, 20, 50]\n",
        "print(checkFirstandLast(a))\n",
        "print(checkFirstandLast(b))"
      ],
      "execution_count": 19,
      "outputs": [
        {
          "output_type": "stream",
          "text": [
            "Given list is [11, 20, 11]\n",
            "result is True\n",
            "True\n",
            "Given list is [10, 20, 30, 20, 50]\n",
            "result is False\n",
            "False\n"
          ],
          "name": "stdout"
        }
      ]
    },
    {
      "cell_type": "markdown",
      "metadata": {
        "id": "ObK4Sr0SXtrH"
      },
      "source": [
        "##3.\n",
        "เขียนโปรแกรมคำนวน ภาษีรายได้ ได้รับค่าเป็นรายได้ต่อปี และนำไปคำนวนจากตารางภาษีด้านล่าง\n",
        "โดยอัตราภาษีคิดเป็นขั้นบันไดของรายได้ตามตาราง"
      ]
    },
    {
      "cell_type": "code",
      "metadata": {
        "id": "u21lt83H3OZm"
      },
      "source": [
        "def TaxRate(income, lim ):\n",
        "  \n",
        "  if min(lim) <= income <= max(lim):\n",
        "    income_2 = min(lim)\n",
        "    income_1 = income - min(lim) \n",
        "  elif income > max(lim):\n",
        "    income_2  = income - max(lim)\n",
        "    income_1 = max(lim)    \n",
        "\n",
        "  return income_1, income_2"
      ],
      "execution_count": 335,
      "outputs": []
    },
    {
      "cell_type": "code",
      "metadata": {
        "id": "EVT9LgLN_0rG"
      },
      "source": [
        "def Tax_all(income):\n",
        "  income_1 = 0\n",
        "  income_2 = 0\n",
        "  income_3 = 0\n",
        "\n",
        "  income_1, income_2 = TaxRate(income, [0,10000])\n",
        "\n",
        "  if income_2 > 20000:\n",
        "    income_2, income_3 = TaxRate(income_2, [10000, 20000])\n",
        "\n",
        "  return income_1 * 0+ income_2 * 0.05 + income_3 * 0.1"
      ],
      "execution_count": 336,
      "outputs": []
    },
    {
      "cell_type": "code",
      "metadata": {
        "colab": {
          "base_uri": "https://localhost:8080/"
        },
        "id": "uXDwXIwhAr2d",
        "outputId": "9f66e72d-fb7f-47d3-904c-a6912e5ed47b"
      },
      "source": [
        "Tax_all(12000)"
      ],
      "execution_count": 337,
      "outputs": [
        {
          "output_type": "execute_result",
          "data": {
            "text/plain": [
              "100.0"
            ]
          },
          "metadata": {
            "tags": []
          },
          "execution_count": 337
        }
      ]
    },
    {
      "cell_type": "markdown",
      "metadata": {
        "id": "gUR8jnnPI0Fv"
      },
      "source": [
        "##4.\n",
        "Employee smith = new Employee(&quot;Joe Smith&quot;);\n",
        "smith.setPosition(&quot;Programmer&quot;);\n",
        "smith.setSalary(90000);\n",
        "System.out.writeln(smith.getName());\n",
        "System.out.writeln(smith.getSalary());\n",
        "\n",
        "Result:\n",
        "Joe Smith : Programmer\n",
        "90000 **Bath**"
      ]
    },
    {
      "cell_type": "code",
      "metadata": {
        "id": "KxmjSiZxDTUN"
      },
      "source": [
        "class Person:\n",
        "  def __init__(self, name):\n",
        "    self.__name = name\n",
        "\n",
        "  def getName(self):\n",
        "    return self.__name\n",
        "\n",
        "  def getSpouse(self):\n",
        "    return self.__spouse\n",
        "\n",
        "  def setSpouse(self,  spouse = 'Person'):\n",
        "    self.__spouse = spouse\n",
        "\n",
        "\n",
        "\n",
        "class Employee(Person):\n",
        "    def __init__(self, name):\n",
        "        super().__init__(name)\n",
        "\n",
        "    def setPosition(self, pos):\n",
        "        self.pos = pos\n",
        "\n",
        "    def setSalary(self, sal):\n",
        "        self.__sal = sal\n",
        "\n",
        "    def getSalary(self):\n",
        "      return self.__sal"
      ],
      "execution_count": 234,
      "outputs": []
    },
    {
      "cell_type": "code",
      "metadata": {
        "colab": {
          "base_uri": "https://localhost:8080/"
        },
        "id": "eM3k7e-5KQE6",
        "outputId": "a42c3d86-c129-41f4-c7f3-1d7caca61291"
      },
      "source": [
        "smith = Employee('Joe Smith')\n",
        "smith.setPosition('Programmer')\n",
        "smith.setSalary(90000)\n",
        "print(smith.getName())\n",
        "print(smith.getSalary())"
      ],
      "execution_count": 235,
      "outputs": [
        {
          "output_type": "stream",
          "text": [
            "Joe Smith\n",
            "90000\n"
          ],
          "name": "stdout"
        }
      ]
    },
    {
      "cell_type": "code",
      "metadata": {
        "id": "uYcFATaDP7ZK"
      },
      "source": [
        ""
      ],
      "execution_count": null,
      "outputs": []
    }
  ]
}